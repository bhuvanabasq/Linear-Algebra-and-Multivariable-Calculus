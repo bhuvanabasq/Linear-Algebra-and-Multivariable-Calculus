{
 "cells": [
  {
   "cell_type": "markdown",
   "metadata": {
    "id": "iw6cGGtuUwml"
   },
   "source": [
    "Linear Algebra [5pts]\n",
    "\n",
    "a) Size of the matrix resulting from this multiplication\n",
    "\n",
    "![image.png](data:image/png;base64,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)\n"
   ]
  },
  {
   "cell_type": "markdown",
   "metadata": {
    "id": "PoEsswPfU4ed"
   },
   "source": [
    "Ans: 3 x 1\n",
    "\n",
    "or\n",
    "\n",
    "not defined"
   ]
  },
  {
   "cell_type": "markdown",
   "metadata": {
    "id": "1ZApcvWBVQC4"
   },
   "source": [
    "**b**) Let $\\textbf{A}$ be a real symmetric $n \\times n$ matrix. Assuming that the proper variables and tensors have been defined and `torch` is imported, which of the following code snippets correctly computes $\\textbf{A}^m$, (the $m$th power of $\\textbf{A}$) for an integer $m > 0$? **Select all that apply.**"
   ]
  },
  {
   "cell_type": "code",
   "execution_count": 11,
   "metadata": {
    "id": "g9GOZjK_U13Y"
   },
   "outputs": [],
   "source": [
    "#Solution for Q1 Part (a)\n",
    "import torch\n",
    "\n",
    "a = torch.tensor([[3, 5],\n",
    "                  [1, 8],\n",
    "                  [9, 0]])\n",
    "\n",
    "# a.shape \n",
    "\n",
    "b = torch.tensor([[2, 0, 0],\n",
    "                  [0, 3, 0],\n",
    "                  [0, 0, 4]])\n",
    "\n",
    "\n",
    "c = torch.tensor([[4, 4, 5],\n",
    "                  [2, 3, 10]])\n",
    "\n",
    "\n",
    "d = torch.tensor([[8, 6, 12]])\n",
    "\n",
    "\n",
    "# 3x2 3x3 2x3 1x1\n",
    "\n",
    "# 3x2 2x3 = 3x3 3x3 = 3x3 3x1 = 3x1\n",
    "\n",
    "#a @ b @ c @ d\n",
    "\n",
    "#a @ c @ b @ d"
   ]
  },
  {
   "cell_type": "markdown",
   "metadata": {
    "id": "SZ49H9BRVuBt"
   },
   "source": [
    "Ans :\n",
    " \n",
    "(i)\n",
    "\n",
    "or\n",
    "\n",
    "(iv) "
   ]
  },
  {
   "cell_type": "code",
   "execution_count": 5,
   "metadata": {
    "colab": {
     "base_uri": "https://localhost:8080/"
    },
    "id": "QxKmLsHWVTXZ",
    "outputId": "2aba540d-5142-4189-f210-d1f22b754c53"
   },
   "outputs": [
    {
     "data": {
      "text/plain": [
       "tensor([[ 8., 27., 64.],\n",
       "        [27., 27.,  0.],\n",
       "        [64.,  0., 64.]])"
      ]
     },
     "execution_count": 5,
     "metadata": {},
     "output_type": "execute_result"
    }
   ],
   "source": [
    "# i)\n",
    "\n",
    "A = torch.tensor([[2., 3., 4.],\n",
    "                  [3., 3., 0.],\n",
    "                  [4., 0., 4.]])\n",
    "m = 3\n",
    "\n",
    "A = A**m\n",
    "\n",
    "A"
   ]
  },
  {
   "cell_type": "code",
   "execution_count": 6,
   "metadata": {
    "colab": {
     "base_uri": "https://localhost:8080/"
    },
    "id": "rbfPo2VHVhf_",
    "outputId": "ea793706-1836-4f52-e15f-680d5036b68f"
   },
   "outputs": [
    {
     "data": {
      "text/plain": [
       "tensor([[12839.,  7905., 13144.],\n",
       "        [ 7905.,  5058.,  7812.],\n",
       "        [13144.,  7812., 13552.]])"
      ]
     },
     "execution_count": 6,
     "metadata": {},
     "output_type": "execute_result"
    }
   ],
   "source": [
    "# ii)\n",
    "\n",
    "A = torch.tensor([[2., 3., 4.],\n",
    "                  [3., 3., 0.],\n",
    "                  [4., 0., 4.]])\n",
    "n = A.shape[0]\n",
    "m = 5\n",
    "\n",
    "X = torch.eye(n)\n",
    "for i in range (m): X @= A\n",
    "A = X\n",
    "\n",
    "A"
   ]
  },
  {
   "cell_type": "code",
   "execution_count": 7,
   "metadata": {
    "colab": {
     "base_uri": "https://localhost:8080/"
    },
    "id": "KuL8DQ34VizF",
    "outputId": "f1cc79f4-d9fc-4d9c-87af-4decfbfc2237"
   },
   "outputs": [
    {
     "data": {
      "text/plain": [
       "tensor([[  32.,    0.,    0.],\n",
       "        [   0.,  243.,    0.],\n",
       "        [   0.,    0., 1024.]])"
      ]
     },
     "execution_count": 7,
     "metadata": {},
     "output_type": "execute_result"
    }
   ],
   "source": [
    "# iii)\n",
    "\n",
    "A = torch.tensor([[2., 3., 4.],\n",
    "                  [3., 3., 0.],\n",
    "                  [4., 0., 4.]])\n",
    "n = A.shape[0]\n",
    "m = 5\n",
    "\n",
    "X = torch.eye(n)\n",
    "for i in range (m): X *= A\n",
    "A = X\n",
    "\n",
    "A"
   ]
  },
  {
   "cell_type": "code",
   "execution_count": 12,
   "metadata": {
    "colab": {
     "base_uri": "https://localhost:8080/"
    },
    "id": "JAopif7QVl0t",
    "outputId": "b509b00a-dc52-4564-9378-aeacad42a74d"
   },
   "outputs": [
    {
     "data": {
      "text/plain": [
       "tensor([[29.0000, 15.0000, 24.0000],\n",
       "        [15.0000, 18.0000, 12.0000],\n",
       "        [24.0000, 12.0000, 32.0000]])"
      ]
     },
     "execution_count": 12,
     "metadata": {},
     "output_type": "execute_result"
    }
   ],
   "source": [
    "# iv)\n",
    "\n",
    "A = torch.tensor([[2., 3., 4.],\n",
    "                  [3., 3., 0.],\n",
    "                  [4., 0., 4.]])\n",
    "w,v = torch.symeig(A, eigenvectors = True)\n",
    "w = w.diag()\n",
    "A = v @ (w**2) @ (torch.inverse(v))\n",
    "\n",
    "A"
   ]
  },
  {
   "cell_type": "markdown",
   "metadata": {
    "id": "tuVkLQ05WGTz"
   },
   "source": [
    "c) A real symmetric $n\\times n$ matrix $\\mathbf{A}$ is said to be positive semi-definite if $\\mathbf{x}^\\top \\mathbf{Ax} \\geq 0$ for all non-zero vectors\n",
    "$\\mathbf{x} \\in \\mathbb{R}^n $. An equivalent definition is that we say $\\mathbf{A}$ is positive semi-definite if all of the eigenvalues of $\\mathbf{A}$ are non-negative. Using `torch`, write a Python function `isPSD()` that takes as input a real symmetric matrix of any size and returns True if the matrix is positive semi-definite, and False otherwise."
   ]
  },
  {
   "cell_type": "code",
   "execution_count": null,
   "metadata": {
    "colab": {
     "base_uri": "https://localhost:8080/"
    },
    "id": "AKpYWzApWKeu",
    "outputId": "0cac63cd-7e26-470a-935e-91abc750135f"
   },
   "outputs": [
    {
     "data": {
      "text/plain": [
       "False"
      ]
     },
     "execution_count": 17,
     "metadata": {
      "tags": []
     },
     "output_type": "execute_result"
    }
   ],
   "source": [
    "import torch\n",
    "\n",
    "A = torch.tensor([[2., 3., 4.],                                                 # Getting the input matrix A\n",
    "                  [3., 3., 1.],\n",
    "                  [4., 1., 4.]])\n",
    "\n",
    "eigenvalues, eigenvectors = torch.symeig(A)                                     #Computing the eigenvalues, eigenvectors for the given matrix A  \n",
    "                                  \n",
    "#Computing the size of eigen value gt 0 and returns 'True' or 'False' incase of\n",
    "#positive semi-definite\n",
    "torch.where(eigenvalues >= 0)[0].size() == eigenvalues.size()                   "
   ]
  },
  {
   "cell_type": "markdown",
   "metadata": {
    "id": "b5nZiNHJWYCE"
   },
   "source": [
    "# Multi-variable Calculus\n",
    "\n",
    "a) Let $\\mathbf{c} \\in \\mathbb{R}$ be a vector of constants, $\\mathbf{x} \\in \\mathbb{R}^n$ and $\\mathbf{A} \\in \\mathbb{R}^{n \\times n}$. Calculate the following gradients:\n",
    "\n",
    "(i) $\\nabla_x$ c.x \n",
    "\n",
    "(ii) $\\nabla_x$ x. x\n",
    "\n",
    "(iii) $\\nabla_x$ $A^2$x\n",
    "\n",
    "(iv) $\\nabla_A$ Tr(A)"
   ]
  },
  {
   "cell_type": "markdown",
   "metadata": {
    "id": "Akvso1PpWasb"
   },
   "source": [
    "#a) Ans :\n",
    "\n",
    "(i) c (constant)\n",
    "\n",
    "(ii) 2x\n",
    "\n",
    "(iii) A^2\n",
    "\n",
    "(iv) Identity matrix"
   ]
  },
  {
   "cell_type": "markdown",
   "metadata": {
    "id": "QdMaHFMinrRs"
   },
   "source": [
    "b) Let $u = $f(x,y,z), with $x = x(a, b), $y = y(a, b) and $z = z(a, b)$. Write chain-rule expansions for:\n",
    "\n",
    "\n",
    "(i) $\\dfrac{du}{da}$\n",
    "\n",
    "(ii) $\\dfrac{du}{db}$"
   ]
  },
  {
   "cell_type": "markdown",
   "metadata": {
    "id": "xCwjqKaSonKf"
   },
   "source": [
    "#b) Ans:\n",
    "\n",
    "(i) $\\dfrac{du}{da}$ = $\\dfrac{du}{dx}$ $\\dfrac{dx}{da}$ + $\\dfrac{du}{dy}$ $\\dfrac{dy}{da}$ + $\\dfrac{du}{dz}$ $\\dfrac{dz}{da}$\n",
    "\n",
    "\n",
    "(i) $\\dfrac{du}{db}$ = $\\dfrac{du}{dx}$ $\\dfrac{dx}{db}$ + $\\dfrac{du}{dy}$ $\\dfrac{dy}{db}$ + $\\dfrac{du}{dz}$ $\\dfrac{dz}{db}$\n"
   ]
  },
  {
   "cell_type": "markdown",
   "metadata": {
    "id": "o2m1xaDvWvTC"
   },
   "source": [
    "c) Let $S : \\mathbb{R}^n \\to \\mathbb{R}^n$ be defined such that for a vector $\\mathbf{x} = (x_1,...,x_n)^\\top$, we have that:\n",
    "\n",
    "<center>$S(\\mathbf{x})_{i}=\\frac{e^{x_{i}}}{\\sum_{j} e^{x_{j}}}$</center>\n",
    "\n",
    "Supposing we let $\\mathbf{x} = (1, 1, 1)^\\top$, we can estimate the partial derivative with respect to a given variable by adding a small vector $\\mathbf{h} = (h,0, 0)^\\top$, where $h$ is in the position of the variable of interest. Estimate the gradient $\\nabla_xS(\\mathbf{x})$ numerically by writing a short Python program and using the formula:\n",
    "\n",
    "<center>$\\frac{\\partial S}{\\partial x_{i}} \\approx \\frac{S(\\mathrm{x}+\\mathrm{h})_{i}-S(\\mathrm{x})_{i}}{h_{i}}$</center>\n",
    "\n",
    "where the only non-zero entry of $\\mathbf{h}$ is a very small value at $h_i$. Compare your answer with the analytical solution, given by $\\nabla_{\\mathrm{x}} S(\\mathrm{x})=S(\\mathrm{x}) \\odot(1-S(\\mathrm{x})).$"
   ]
  },
  {
   "cell_type": "code",
   "execution_count": null,
   "metadata": {
    "id": "NXYHbTbtW3ua"
   },
   "outputs": [],
   "source": [
    "from torch.nn import Softmax\n",
    "import torch"
   ]
  },
  {
   "cell_type": "code",
   "execution_count": null,
   "metadata": {
    "id": "F4PUR5_LW_4B"
   },
   "outputs": [],
   "source": [
    "def gradient(S, X, h=0.01):\n",
    "  H = torch.zeros(X.size())                                                     #  adding a small vector  h=(h,0,0)\n",
    "  for i in range(H.size()[-1]):\n",
    "    index = torch.tensor([i])                                                   #  h  is in the position of the variable of interest\n",
    "    if i == 0:\n",
    "      der = ((S(X + H.index_fill(1, index, h)) - S(X))/h)                       #  gradient formula\n",
    "    else:\n",
    "      der = torch.cat((der, ((S(X + H.index_fill(1, index, h)) - S(X))/h)))       \n",
    "  grad = torch.diag(der, 0).reshape(1,-1)                                       #  ignoring the derivative of independent variables\n",
    "  return grad"
   ]
  },
  {
   "cell_type": "code",
   "execution_count": null,
   "metadata": {
    "id": "suQNrFaIXDDz"
   },
   "outputs": [],
   "source": [
    "def anal_gradient(S, x):\n",
    "  return S(x)*(1-S(x))"
   ]
  },
  {
   "cell_type": "code",
   "execution_count": null,
   "metadata": {
    "colab": {
     "base_uri": "https://localhost:8080/"
    },
    "id": "KK0cV419XGBx",
    "outputId": "32f19533-f366-467a-90d1-16e107885b88"
   },
   "outputs": [
    {
     "name": "stdout",
     "output_type": "stream",
     "text": [
      "tensor([[0.2223, 0.2223, 0.2223]])\n",
      "tensor([[0.2222, 0.2222, 0.2222]])\n"
     ]
    }
   ],
   "source": [
    "S = Softmax(dim=1)\n",
    "X = torch.tensor([[1.,1.,1.]])\n",
    "\n",
    "print(gradient(S, X, h=0.001))                                                  # Estimating the gradient  ∇xS(x)  numerically\n",
    "\n",
    "print(anal_gradient(S, X))                                                      # Comparing the answer with the analytical solution"
   ]
  },
  {
   "cell_type": "markdown",
   "metadata": {
    "id": "kHzz0uexuo-u"
   },
   "source": [
    "# Probability\n",
    "\n",
    "a) A neural net classifier was trained on an image dataset containing pictures of cats, dogs, and birds. The\n",
    "dataset is unbalanced: 60% of the images are of cats, 30% of dogs, and only 10% of birds. The classifier\n",
    "always correctly classifies images of cats, but it gets an expected accuracy of 80% on dog images, and an\n",
    "expected accuracy of 30% on bird images. What is the expected accuracy the classifier achieves on the entire\n",
    "dataset?"
   ]
  },
  {
   "cell_type": "markdown",
   "metadata": {
    "id": "BfXpkDjIvnRl"
   },
   "source": [
    "# a) Ans\n",
    "#Given data in percentage\n",
    "\n",
    "Cats = 60% \\\\\n",
    "\n",
    "Dogs = 30% \\\\\n",
    "\n",
    "Birds = 10%\n",
    "\n",
    "#Accuracy data in percentage\n",
    "\n",
    "Cats = 100% \\\\\n",
    "\n",
    "Dogs = 80% \\\\\n",
    "\n",
    "Birds = 30%\n",
    "\n",
    "#Probability (P)\n",
    "P = (0.6 * 1) + (0.3 * 0.8) + (0.1 * 0.3) \\\\\n",
    "\n",
    "  = 0.6 + 0.24 + 0.03 \\\\\n",
    "  \n",
    "  = 0.87\n",
    "\n",
    "#Therefore the expected accuracy of entire dataset is 87%\n"
   ]
  },
  {
   "cell_type": "markdown",
   "metadata": {
    "id": "76nWqRnSzdqP"
   },
   "source": [
    "b) As a test for lung cancer, patients undergo a CT scan to look for tumors in the lungs. The following\n",
    "chart summarizes the number of patients who showed tumors, conditioned on whether they had lung cancer\n",
    "or not. \\\\\n",
    "\n",
    "i) What is the probability that the test results agreed with the patient’s condition? \\\\\n",
    "\n",
    "ii) What is the probability that a patient has cancer, given that they showed a tumor? \\\\\n",
    "\n",
    "iii) Based on your answers for i) and ii), do you think this test is a good way to identify patients with lung\n",
    "cancer? Be critical.\n",
    "\n",
    "\n",
    "\n"
   ]
  },
  {
   "cell_type": "markdown",
   "metadata": {
    "id": "E_qrx8rD08L6"
   },
   "source": [
    "# b) Ans\n",
    "\n",
    "i) True postive rate = 10 / (10+15+5+970) \\\\\n",
    "                     \n",
    "                     = 0.01 \n",
    "                \n",
    "\n",
    "ii) Probability = 10 / (10+15) \\\\\n",
    "                \n",
    "                 = 0.4\n",
    "              \n",
    "iii) Therefore, the second option(ii) shows the highest value to  identify patients with lung cancer"
   ]
  },
  {
   "cell_type": "markdown",
   "metadata": {
    "id": "8rdxLtrJ0_Ex"
   },
   "source": [
    "c) Write a short Python program that generates a torch tensor of size (10000, 3), which consists of 10, 000\n",
    "random three-dimensional vectors sampled uniformly from the unit sphere.\n"
   ]
  },
  {
   "cell_type": "code",
   "execution_count": null,
   "metadata": {
    "id": "VDJxgr-c1Dko"
   },
   "outputs": [],
   "source": [
    "from matplotlib import pyplot as plt\n",
    "from mpl_toolkits.mplot3d import axes3d"
   ]
  },
  {
   "cell_type": "code",
   "execution_count": null,
   "metadata": {
    "id": "cJwOp43q4uSY"
   },
   "outputs": [],
   "source": [
    "def uni_sphere(plot,dim):                                                       #Estimating the unit sphere distribution on three dim vector\n",
    "\n",
    "  vec = torch.randn(dim,plot);                                                  #Computing random dim and plotted points of standard normal distribution\n",
    "  vec /= torch.linalg.norm(vec,axis=0)                                           \n",
    "  #unit sphere formula\n",
    "  return vec\n",
    "\n",
    "\n",
    "torch.pi = torch.acos(torch.zeros(1)).item() * 2                                 \n",
    "phi = torch.linspace(0, torch.pi, 20)\n",
    "theta = torch.linspace(0, 2 * torch.pi, 40)\n",
    "x = torch.outer(torch.sin(theta), torch.cos(phi))                               #formula to compute 3-dimensional axis (x,y,z)\n",
    "y = torch.outer(torch.sin(theta), torch.sin(phi))\n",
    "z = torch.outer(torch.cos(theta), torch.ones_like(phi))\n",
    "\n",
    "xi, yi, zi = uni_sphere(10000,3)\n"
   ]
  },
  {
   "cell_type": "code",
   "execution_count": null,
   "metadata": {
    "colab": {
     "base_uri": "https://localhost:8080/",
     "height": 319
    },
    "id": "zHAIgyyQ5GZe",
    "outputId": "abb60ca3-503a-44c2-a8a0-e1da111cf150"
   },
   "outputs": [
    {
     "name": "stderr",
     "output_type": "stream",
     "text": [
      "/usr/local/lib/python3.6/dist-packages/numpy/core/_asarray.py:136: VisibleDeprecationWarning: Creating an ndarray from ragged nested sequences (which is a list-or-tuple of lists-or-tuples-or ndarrays with different lengths or shapes) is deprecated. If you meant to do this, you must specify 'dtype=object' when creating the ndarray\n",
      "  return array(a, dtype, copy=False, order=order, subok=True)\n"
     ]
    },
    {
     "data": {
      "text/plain": [
       "<mpl_toolkits.mplot3d.art3d.Path3DCollection at 0x7fa11fc78b00>"
      ]
     },
     "execution_count": 44,
     "metadata": {
      "tags": []
     },
     "output_type": "execute_result"
    },
    {
     "data": {
      "image/png": "[encoded data removed]",
      "text/plain": [
       "<Figure size 432x288 with 1 Axes>"
      ]
     },
     "metadata": {
      "needs_background": "light",
      "tags": []
     },
     "output_type": "display_data"
    }
   ],
   "source": [
    "fig, ax = plt.subplots(1, 1, subplot_kw={'projection':'3d'})                    #Plotting the points using three axis and color coded on the sphere\n",
    "ax.plot_wireframe(x, y, z, color='k', rstride=1, cstride=1)\n",
    "ax.scatter(xi, yi, zi, s=10000, c='g', zorder=10)"
   ]
  },
  {
   "cell_type": "code",
   "execution_count": null,
   "metadata": {
    "colab": {
     "base_uri": "https://localhost:8080/"
    },
    "id": "Hu3N7jZT4-eF",
    "outputId": "42a5c592-020a-401e-a84c-a63057224f68"
   },
   "outputs": [
    {
     "name": "stdout",
     "output_type": "stream",
     "text": [
      "tensor([[ 0.4383, -0.6492, -0.7432,  ...,  0.8077,  0.3627, -0.5439],\n",
      "        [ 0.5148,  0.4806, -0.5328,  ..., -0.3808,  0.9056, -0.7026],\n",
      "        [-0.7368,  0.5896,  0.4048,  ..., -0.4501, -0.2199, -0.4587]])\n"
     ]
    }
   ],
   "source": [
    "print(uni_sphere(10000,3))                                                      #Estimating the unit sphere distribution on three dim vector"
   ]
  }
 ],
 "metadata": {
  "colab": {
   "name": "B00853122_Bhuvaneshwari_Basquarane_ML_A1 (1).ipynb",
   "provenance": []
  },
  "kernelspec": {
   "display_name": "Python 3",
   "language": "python",
   "name": "python3"
  },
  "language_info": {
   "codemirror_mode": {
    "name": "ipython",
    "version": 3
   },
   "file_extension": ".py",
   "mimetype": "text/x-python",
   "name": "python",
   "nbconvert_exporter": "python",
   "pygments_lexer": "ipython3",
   "version": "3.8.8"
  }
 },
 "nbformat": 4,
 "nbformat_minor": 1
}
